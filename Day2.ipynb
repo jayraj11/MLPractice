{
 "cells": [
  {
   "cell_type": "markdown",
   "id": "c3cd8306",
   "metadata": {},
   "source": [
    "# List,Set, Dictionary and Tuple"
   ]
  },
  {
   "cell_type": "code",
   "execution_count": 1,
   "id": "74f82401",
   "metadata": {},
   "outputs": [
    {
     "data": {
      "text/plain": [
       "list"
      ]
     },
     "execution_count": 1,
     "metadata": {},
     "output_type": "execute_result"
    }
   ],
   "source": [
    "type([])"
   ]
  },
  {
   "cell_type": "code",
   "execution_count": 2,
   "id": "a4bb0b49",
   "metadata": {},
   "outputs": [],
   "source": [
    "lst=[]\n"
   ]
  },
  {
   "cell_type": "code",
   "execution_count": 3,
   "id": "abf34a92",
   "metadata": {},
   "outputs": [],
   "source": [
    "lst=['Maths','Chemistry',100,200,300]"
   ]
  },
  {
   "cell_type": "code",
   "execution_count": 4,
   "id": "ee6da54a",
   "metadata": {},
   "outputs": [
    {
     "data": {
      "text/plain": [
       "5"
      ]
     },
     "execution_count": 4,
     "metadata": {},
     "output_type": "execute_result"
    }
   ],
   "source": [
    "len(lst)"
   ]
  },
  {
   "cell_type": "code",
   "execution_count": 7,
   "id": "d9010ea2",
   "metadata": {},
   "outputs": [],
   "source": [
    "lst.append(\"Sahil\")"
   ]
  },
  {
   "cell_type": "code",
   "execution_count": 8,
   "id": "3553afc6",
   "metadata": {},
   "outputs": [
    {
     "data": {
      "text/plain": [
       "['Maths', 'Chemistry', 100, 200, 300, ['Sahil'], 'Sahil']"
      ]
     },
     "execution_count": 8,
     "metadata": {},
     "output_type": "execute_result"
    }
   ],
   "source": [
    "lst"
   ]
  },
  {
   "cell_type": "code",
   "execution_count": 9,
   "id": "a488850f",
   "metadata": {},
   "outputs": [
    {
     "data": {
      "text/plain": [
       "['Sahil']"
      ]
     },
     "execution_count": 9,
     "metadata": {},
     "output_type": "execute_result"
    }
   ],
   "source": [
    "lst[5]"
   ]
  },
  {
   "cell_type": "code",
   "execution_count": 10,
   "id": "adf3e17b",
   "metadata": {},
   "outputs": [
    {
     "data": {
      "text/plain": [
       "['Chemistry', 100, 200, 300]"
      ]
     },
     "execution_count": 10,
     "metadata": {},
     "output_type": "execute_result"
    }
   ],
   "source": [
    "lst[1:5]"
   ]
  },
  {
   "cell_type": "code",
   "execution_count": 12,
   "id": "931d955e",
   "metadata": {},
   "outputs": [],
   "source": [
    "lst.insert(2,\"Harshal\")"
   ]
  },
  {
   "cell_type": "code",
   "execution_count": 13,
   "id": "904dab77",
   "metadata": {},
   "outputs": [
    {
     "data": {
      "text/plain": [
       "['Maths', 'Chemistry', 'Harshal', 100, 200, 300, ['Sahil'], 'Sahil']"
      ]
     },
     "execution_count": 13,
     "metadata": {},
     "output_type": "execute_result"
    }
   ],
   "source": [
    "lst"
   ]
  },
  {
   "cell_type": "code",
   "execution_count": 14,
   "id": "a7af9e41",
   "metadata": {},
   "outputs": [],
   "source": [
    "lst1=[1,2,3,5,6,7]"
   ]
  },
  {
   "cell_type": "code",
   "execution_count": 15,
   "id": "8cd3ddaf",
   "metadata": {},
   "outputs": [
    {
     "data": {
      "text/plain": [
       "24"
      ]
     },
     "execution_count": 15,
     "metadata": {},
     "output_type": "execute_result"
    }
   ],
   "source": [
    "sum(lst1)"
   ]
  },
  {
   "cell_type": "code",
   "execution_count": 17,
   "id": "71b8b223",
   "metadata": {},
   "outputs": [
    {
     "data": {
      "text/plain": [
       "[1,\n",
       " 2,\n",
       " 3,\n",
       " 5,\n",
       " 6,\n",
       " 7,\n",
       " 1,\n",
       " 2,\n",
       " 3,\n",
       " 5,\n",
       " 6,\n",
       " 7,\n",
       " 1,\n",
       " 2,\n",
       " 3,\n",
       " 5,\n",
       " 6,\n",
       " 7,\n",
       " 1,\n",
       " 2,\n",
       " 3,\n",
       " 5,\n",
       " 6,\n",
       " 7,\n",
       " 1,\n",
       " 2,\n",
       " 3,\n",
       " 5,\n",
       " 6,\n",
       " 7]"
      ]
     },
     "execution_count": 17,
     "metadata": {},
     "output_type": "execute_result"
    }
   ],
   "source": [
    "lst1*5"
   ]
  },
  {
   "cell_type": "code",
   "execution_count": 19,
   "id": "b7a49ac1",
   "metadata": {},
   "outputs": [
    {
     "data": {
      "text/plain": [
       "1"
      ]
     },
     "execution_count": 19,
     "metadata": {},
     "output_type": "execute_result"
    }
   ],
   "source": [
    "lst1.pop(0)"
   ]
  },
  {
   "cell_type": "code",
   "execution_count": 21,
   "id": "8b1e8189",
   "metadata": {},
   "outputs": [
    {
     "data": {
      "text/plain": [
       "0"
      ]
     },
     "execution_count": 21,
     "metadata": {},
     "output_type": "execute_result"
    }
   ],
   "source": [
    "lst1.count(1)"
   ]
  },
  {
   "cell_type": "markdown",
   "id": "d2e85514",
   "metadata": {},
   "source": [
    "# SETS"
   ]
  },
  {
   "cell_type": "code",
   "execution_count": 22,
   "id": "cc3e166e",
   "metadata": {},
   "outputs": [],
   "source": [
    "set1=set()\n"
   ]
  },
  {
   "cell_type": "code",
   "execution_count": 23,
   "id": "a9811e4a",
   "metadata": {},
   "outputs": [],
   "source": [
    "set={1,2,3,4,5,3}"
   ]
  },
  {
   "cell_type": "code",
   "execution_count": 24,
   "id": "cc745569",
   "metadata": {},
   "outputs": [
    {
     "data": {
      "text/plain": [
       "{1, 2, 3, 4, 5}"
      ]
     },
     "execution_count": 24,
     "metadata": {},
     "output_type": "execute_result"
    }
   ],
   "source": [
    "set"
   ]
  },
  {
   "cell_type": "code",
   "execution_count": 25,
   "id": "ff6778c2",
   "metadata": {},
   "outputs": [],
   "source": [
    "set1={\"Apple\",\"Mango\",\"Grapes\"}"
   ]
  },
  {
   "cell_type": "code",
   "execution_count": 26,
   "id": "7c06fd45",
   "metadata": {},
   "outputs": [],
   "source": [
    "set2={\"Apple\",\"Mango\",\"Grapes\",\"Banana\",\"Papaya\"}"
   ]
  },
  {
   "cell_type": "code",
   "execution_count": 27,
   "id": "a2ea68ed",
   "metadata": {},
   "outputs": [],
   "source": [
    "set2.intersection_update(set1)"
   ]
  },
  {
   "cell_type": "code",
   "execution_count": 28,
   "id": "10d16484",
   "metadata": {},
   "outputs": [
    {
     "data": {
      "text/plain": [
       "{'Apple', 'Grapes', 'Mango'}"
      ]
     },
     "execution_count": 28,
     "metadata": {},
     "output_type": "execute_result"
    }
   ],
   "source": [
    "set2"
   ]
  },
  {
   "cell_type": "code",
   "execution_count": 29,
   "id": "36aee532",
   "metadata": {},
   "outputs": [
    {
     "data": {
      "text/plain": [
       "{'Apple', 'Grapes', 'Mango'}"
      ]
     },
     "execution_count": 29,
     "metadata": {},
     "output_type": "execute_result"
    }
   ],
   "source": [
    "set1"
   ]
  },
  {
   "cell_type": "code",
   "execution_count": 30,
   "id": "4ef65f41",
   "metadata": {},
   "outputs": [],
   "source": [
    "set2.difference_update(set1)"
   ]
  },
  {
   "cell_type": "code",
   "execution_count": 31,
   "id": "66d35088",
   "metadata": {},
   "outputs": [
    {
     "data": {
      "text/plain": [
       "set()"
      ]
     },
     "execution_count": 31,
     "metadata": {},
     "output_type": "execute_result"
    }
   ],
   "source": [
    "set2"
   ]
  },
  {
   "cell_type": "markdown",
   "id": "7ca78444",
   "metadata": {},
   "source": [
    "# Dictionaries"
   ]
  },
  {
   "cell_type": "code",
   "execution_count": 32,
   "id": "1e97226c",
   "metadata": {},
   "outputs": [],
   "source": [
    "dic={}"
   ]
  },
  {
   "cell_type": "code",
   "execution_count": 33,
   "id": "c59fed8d",
   "metadata": {},
   "outputs": [],
   "source": [
    "dic={\"sub1\":\"phy\",\"sub2\":\"che\",\"sub3\":\"Maths\",}"
   ]
  },
  {
   "cell_type": "code",
   "execution_count": 34,
   "id": "53413250",
   "metadata": {},
   "outputs": [
    {
     "data": {
      "text/plain": [
       "'phy'"
      ]
     },
     "execution_count": 34,
     "metadata": {},
     "output_type": "execute_result"
    }
   ],
   "source": [
    "dic['sub1']"
   ]
  },
  {
   "cell_type": "code",
   "execution_count": 38,
   "id": "2c7ecd07",
   "metadata": {},
   "outputs": [
    {
     "name": "stdout",
     "output_type": "stream",
     "text": [
      "sub1\n",
      "sub2\n",
      "sub3\n"
     ]
    }
   ],
   "source": [
    "for x in dic:\n",
    "    print(x)"
   ]
  },
  {
   "cell_type": "code",
   "execution_count": 39,
   "id": "45881258",
   "metadata": {},
   "outputs": [
    {
     "name": "stdout",
     "output_type": "stream",
     "text": [
      "phy\n",
      "che\n",
      "Maths\n"
     ]
    }
   ],
   "source": [
    "for x in dic.values():\n",
    "    print(x)"
   ]
  },
  {
   "cell_type": "code",
   "execution_count": 40,
   "id": "23cd8df9",
   "metadata": {},
   "outputs": [
    {
     "name": "stdout",
     "output_type": "stream",
     "text": [
      "('sub1', 'phy')\n",
      "('sub2', 'che')\n",
      "('sub3', 'Maths')\n"
     ]
    }
   ],
   "source": [
    "for x in dic.items():\n",
    "    print(x)"
   ]
  },
  {
   "cell_type": "code",
   "execution_count": 41,
   "id": "c46b506a",
   "metadata": {},
   "outputs": [
    {
     "data": {
      "text/plain": [
       "'Maths'"
      ]
     },
     "execution_count": 41,
     "metadata": {},
     "output_type": "execute_result"
    }
   ],
   "source": [
    "dic['sub3']"
   ]
  },
  {
   "cell_type": "code",
   "execution_count": 42,
   "id": "8d6c359f",
   "metadata": {},
   "outputs": [],
   "source": [
    "dic1={\"sub4\":\"phy1\",\"sub5\":\"phy2\",\"sub6\":\"phy3\"}"
   ]
  },
  {
   "cell_type": "code",
   "execution_count": 44,
   "id": "07ca8b1c",
   "metadata": {},
   "outputs": [],
   "source": [
    "dic2={\"sub7\":dic1}"
   ]
  },
  {
   "cell_type": "code",
   "execution_count": 45,
   "id": "338bafa7",
   "metadata": {},
   "outputs": [
    {
     "data": {
      "text/plain": [
       "{'sub7': {'sub4': 'phy1', 'sub5': 'phy2', 'sub6': 'phy3'}}"
      ]
     },
     "execution_count": 45,
     "metadata": {},
     "output_type": "execute_result"
    }
   ],
   "source": [
    "dic2"
   ]
  },
  {
   "cell_type": "markdown",
   "id": "8e8145eb",
   "metadata": {},
   "source": [
    "# Tuples"
   ]
  },
  {
   "cell_type": "code",
   "execution_count": 49,
   "id": "6063255d",
   "metadata": {},
   "outputs": [],
   "source": [
    "tuple1=(\"Good\",\"Morning\",\"CDAC\",\"Mumbai\",\"Good\",\"Good\")"
   ]
  },
  {
   "cell_type": "code",
   "execution_count": 50,
   "id": "b9b8e006",
   "metadata": {},
   "outputs": [
    {
     "data": {
      "text/plain": [
       "3"
      ]
     },
     "execution_count": 50,
     "metadata": {},
     "output_type": "execute_result"
    }
   ],
   "source": [
    "tuple1.count(\"Good\")"
   ]
  },
  {
   "cell_type": "code",
   "execution_count": 51,
   "id": "372027ea",
   "metadata": {},
   "outputs": [
    {
     "data": {
      "text/plain": [
       "0"
      ]
     },
     "execution_count": 51,
     "metadata": {},
     "output_type": "execute_result"
    }
   ],
   "source": [
    "tuple1.index(\"Good\")"
   ]
  },
  {
   "cell_type": "markdown",
   "id": "1a3d550f",
   "metadata": {},
   "source": [
    "# Numpy"
   ]
  },
  {
   "cell_type": "code",
   "execution_count": 54,
   "id": "f3cbadbf",
   "metadata": {},
   "outputs": [],
   "source": [
    "import numpy as np"
   ]
  },
  {
   "cell_type": "code",
   "execution_count": 55,
   "id": "5dc00c96",
   "metadata": {},
   "outputs": [],
   "source": [
    "lst=[1,2,3,4,5]"
   ]
  },
  {
   "cell_type": "code",
   "execution_count": 56,
   "id": "e4f935d9",
   "metadata": {},
   "outputs": [],
   "source": [
    "arr=np.array(lst)"
   ]
  },
  {
   "cell_type": "code",
   "execution_count": 57,
   "id": "b71f57fb",
   "metadata": {},
   "outputs": [
    {
     "data": {
      "text/plain": [
       "numpy.ndarray"
      ]
     },
     "execution_count": 57,
     "metadata": {},
     "output_type": "execute_result"
    }
   ],
   "source": [
    "type(arr)"
   ]
  },
  {
   "cell_type": "code",
   "execution_count": 58,
   "id": "78d2ad0a",
   "metadata": {},
   "outputs": [],
   "source": [
    "lst1=[1,2,3,4,5]\n",
    "lst2=[11,12,13,14,5]\n",
    "lst3=[21,22,23,24,25]"
   ]
  },
  {
   "cell_type": "code",
   "execution_count": 60,
   "id": "43d2409e",
   "metadata": {},
   "outputs": [],
   "source": [
    "arr= np.array([lst1,lst2,lst3])"
   ]
  },
  {
   "cell_type": "code",
   "execution_count": 62,
   "id": "746fcd17",
   "metadata": {},
   "outputs": [
    {
     "data": {
      "text/plain": [
       "array([[ 1,  2,  3,  4,  5],\n",
       "       [11, 12, 13, 14,  5],\n",
       "       [21, 22, 23, 24, 25]])"
      ]
     },
     "execution_count": 62,
     "metadata": {},
     "output_type": "execute_result"
    }
   ],
   "source": [
    "arr"
   ]
  },
  {
   "cell_type": "code",
   "execution_count": 61,
   "id": "73288a2a",
   "metadata": {},
   "outputs": [
    {
     "data": {
      "text/plain": [
       "numpy.ndarray"
      ]
     },
     "execution_count": 61,
     "metadata": {},
     "output_type": "execute_result"
    }
   ],
   "source": [
    "type(arr)"
   ]
  },
  {
   "cell_type": "code",
   "execution_count": 63,
   "id": "418933c5",
   "metadata": {},
   "outputs": [
    {
     "data": {
      "text/plain": [
       "(3, 5)"
      ]
     },
     "execution_count": 63,
     "metadata": {},
     "output_type": "execute_result"
    }
   ],
   "source": [
    "arr.shape"
   ]
  },
  {
   "cell_type": "code",
   "execution_count": 71,
   "id": "51a6c787",
   "metadata": {},
   "outputs": [
    {
     "data": {
      "text/plain": [
       "3"
      ]
     },
     "execution_count": 71,
     "metadata": {},
     "output_type": "execute_result"
    }
   ],
   "source": [
    "#index\n",
    "arr[0,2]"
   ]
  },
  {
   "cell_type": "code",
   "execution_count": 81,
   "id": "9cd6b338",
   "metadata": {},
   "outputs": [],
   "source": [
    "arr[2:3,3:3]=0"
   ]
  },
  {
   "cell_type": "code",
   "execution_count": 82,
   "id": "d2a9c77a",
   "metadata": {},
   "outputs": [
    {
     "data": {
      "text/plain": [
       "array([[  1,   2,   3,   4,   5],\n",
       "       [ 11,  12,  13,  14,   5],\n",
       "       [100, 100, 100, 100, 100]])"
      ]
     },
     "execution_count": 82,
     "metadata": {},
     "output_type": "execute_result"
    }
   ],
   "source": [
    "arr"
   ]
  },
  {
   "cell_type": "code",
   "execution_count": 83,
   "id": "9908a1d7",
   "metadata": {},
   "outputs": [
    {
     "data": {
      "text/plain": [
       "array([], dtype=int32)"
      ]
     },
     "execution_count": 83,
     "metadata": {},
     "output_type": "execute_result"
    }
   ],
   "source": [
    "arr[arr==0]"
   ]
  },
  {
   "cell_type": "code",
   "execution_count": 84,
   "id": "105ef606",
   "metadata": {},
   "outputs": [
    {
     "data": {
      "text/plain": [
       "array([ 0,  1,  2,  3,  4,  5,  6,  7,  8,  9, 10, 11, 12, 13, 14])"
      ]
     },
     "execution_count": 84,
     "metadata": {},
     "output_type": "execute_result"
    }
   ],
   "source": [
    "np.arange(0,15)"
   ]
  },
  {
   "cell_type": "code",
   "execution_count": 85,
   "id": "3ff3ed61",
   "metadata": {},
   "outputs": [
    {
     "data": {
      "text/plain": [
       "(15,)"
      ]
     },
     "execution_count": 85,
     "metadata": {},
     "output_type": "execute_result"
    }
   ],
   "source": [
    "np.arange(0,15).shape"
   ]
  },
  {
   "cell_type": "code",
   "execution_count": 89,
   "id": "1d917188",
   "metadata": {},
   "outputs": [],
   "source": [
    "arr1=np.arange(0,15).reshape(5,3)"
   ]
  },
  {
   "cell_type": "code",
   "execution_count": 90,
   "id": "07051765",
   "metadata": {},
   "outputs": [],
   "source": [
    "arr2=np.arange(0,15).reshape(5,3)"
   ]
  },
  {
   "cell_type": "code",
   "execution_count": 91,
   "id": "81974fc3",
   "metadata": {},
   "outputs": [
    {
     "data": {
      "text/plain": [
       "array([[  0,   1,   4],\n",
       "       [  9,  16,  25],\n",
       "       [ 36,  49,  64],\n",
       "       [ 81, 100, 121],\n",
       "       [144, 169, 196]])"
      ]
     },
     "execution_count": 91,
     "metadata": {},
     "output_type": "execute_result"
    }
   ],
   "source": [
    "arr3=arr1*arr2"
   ]
  },
  {
   "cell_type": "code",
   "execution_count": 93,
   "id": "ff23443d",
   "metadata": {},
   "outputs": [
    {
     "data": {
      "text/plain": [
       "array([[1, 1, 1, 1],\n",
       "       [1, 1, 1, 1]])"
      ]
     },
     "execution_count": 93,
     "metadata": {},
     "output_type": "execute_result"
    }
   ],
   "source": [
    "np.ones((2,4),dtype=int)"
   ]
  },
  {
   "cell_type": "code",
   "execution_count": 97,
   "id": "a0c033d1",
   "metadata": {},
   "outputs": [],
   "source": [
    "arr5=np.random.rand(5,5)"
   ]
  },
  {
   "cell_type": "code",
   "execution_count": 98,
   "id": "40c85527",
   "metadata": {},
   "outputs": [
    {
     "data": {
      "text/plain": [
       "array([[0.78185213, 0.96868637, 0.10660879, 0.20548465, 0.34976828],\n",
       "       [0.61267905, 0.30313126, 0.30934485, 0.07479491, 0.14587749],\n",
       "       [0.73713412, 0.99412425, 0.01119702, 0.82730379, 0.2611662 ],\n",
       "       [0.13375723, 0.26403489, 0.09679668, 0.86127962, 0.65946639],\n",
       "       [0.18157043, 0.53037857, 0.10345063, 0.34608408, 0.38679347]])"
      ]
     },
     "execution_count": 98,
     "metadata": {},
     "output_type": "execute_result"
    }
   ],
   "source": [
    "arr5"
   ]
  },
  {
   "cell_type": "code",
   "execution_count": 99,
   "id": "e77fef66",
   "metadata": {},
   "outputs": [],
   "source": [
    "import seaborn as sns\n",
    "import pandas as pd"
   ]
  },
  {
   "cell_type": "code",
   "execution_count": 100,
   "id": "aca60de3",
   "metadata": {},
   "outputs": [
    {
     "data": {
      "text/plain": [
       "<seaborn.axisgrid.FacetGrid at 0x1d004f47a60>"
      ]
     },
     "execution_count": 100,
     "metadata": {},
     "output_type": "execute_result"
    },
    {
     "data": {
      "image/png": "[encoded data removed]",
      "text/plain": [
       "<Figure size 402.375x360 with 1 Axes>"
      ]
     },
     "metadata": {
      "needs_background": "light"
     },
     "output_type": "display_data"
    }
   ],
   "source": [
    "sns.displot(pd.DataFrame(arr5))"
   ]
  },
  {
   "cell_type": "markdown",
   "id": "ca43b7c8",
   "metadata": {},
   "source": [
    "# Panda"
   ]
  },
  {
   "cell_type": "markdown",
   "id": "d34b96bd",
   "metadata": {},
   "source": [
    "Series: 1D : homogeneous data  ----> column we are considerig\n",
    "    \n",
    "Dataframe: 2D hetrogeneous data ---> Tabular structure we are considering"
   ]
  },
  {
   "cell_type": "code",
   "execution_count": 105,
   "id": "aa0ea238",
   "metadata": {},
   "outputs": [],
   "source": [
    "import pandas as pd"
   ]
  },
  {
   "cell_type": "code",
   "execution_count": 106,
   "id": "c14dcc73",
   "metadata": {},
   "outputs": [],
   "source": [
    "s1=pd.Series([1,\"Amey\",100,\"Priya\"])"
   ]
  },
  {
   "cell_type": "code",
   "execution_count": 107,
   "id": "18449e01",
   "metadata": {},
   "outputs": [
    {
     "data": {
      "text/plain": [
       "0        1\n",
       "1     Amey\n",
       "2      100\n",
       "3    Priya\n",
       "dtype: object"
      ]
     },
     "execution_count": 107,
     "metadata": {},
     "output_type": "execute_result"
    }
   ],
   "source": [
    "s1"
   ]
  },
  {
   "cell_type": "code",
   "execution_count": 108,
   "id": "6de68d67",
   "metadata": {},
   "outputs": [
    {
     "data": {
      "text/plain": [
       "100"
      ]
     },
     "execution_count": 108,
     "metadata": {},
     "output_type": "execute_result"
    }
   ],
   "source": [
    "s1[2]"
   ]
  },
  {
   "cell_type": "code",
   "execution_count": 109,
   "id": "58c2533f",
   "metadata": {},
   "outputs": [
    {
     "data": {
      "text/plain": [
       "array([1, 'Amey', 100, 'Priya'], dtype=object)"
      ]
     },
     "execution_count": 109,
     "metadata": {},
     "output_type": "execute_result"
    }
   ],
   "source": [
    "s1.values"
   ]
  },
  {
   "cell_type": "code",
   "execution_count": 110,
   "id": "9365847f",
   "metadata": {},
   "outputs": [],
   "source": [
    "s2=pd.Series([1,\"Amey\",100,\"Priya\"],index=[\"a\",\"b\",\"c\",\"d\"])"
   ]
  },
  {
   "cell_type": "code",
   "execution_count": 111,
   "id": "9b3a0172",
   "metadata": {},
   "outputs": [
    {
     "data": {
      "text/plain": [
       "a        1\n",
       "b     Amey\n",
       "c      100\n",
       "d    Priya\n",
       "dtype: object"
      ]
     },
     "execution_count": 111,
     "metadata": {},
     "output_type": "execute_result"
    }
   ],
   "source": [
    "s2"
   ]
  },
  {
   "cell_type": "code",
   "execution_count": 113,
   "id": "dbd7d522",
   "metadata": {},
   "outputs": [
    {
     "data": {
      "text/plain": [
       "'Amey'"
      ]
     },
     "execution_count": 113,
     "metadata": {},
     "output_type": "execute_result"
    }
   ],
   "source": [
    "s2[\"b\"]"
   ]
  },
  {
   "cell_type": "code",
   "execution_count": 114,
   "id": "74ae144a",
   "metadata": {},
   "outputs": [
    {
     "data": {
      "text/plain": [
       "Index(['a', 'b', 'c', 'd'], dtype='object')"
      ]
     },
     "execution_count": 114,
     "metadata": {},
     "output_type": "execute_result"
    }
   ],
   "source": [
    "s2.index"
   ]
  },
  {
   "cell_type": "code",
   "execution_count": 115,
   "id": "1ef18927",
   "metadata": {},
   "outputs": [],
   "source": [
    "per={\"Ram\":90,\"Rahul\":80,\"Amit\":85,\"Tina\":95}"
   ]
  },
  {
   "cell_type": "code",
   "execution_count": 117,
   "id": "7cf66d7d",
   "metadata": {},
   "outputs": [],
   "source": [
    "per1=pd.Series(per)"
   ]
  },
  {
   "cell_type": "code",
   "execution_count": 118,
   "id": "04a86974",
   "metadata": {},
   "outputs": [
    {
     "data": {
      "text/plain": [
       "Ram      90\n",
       "Rahul    80\n",
       "Amit     85\n",
       "Tina     95\n",
       "dtype: int64"
      ]
     },
     "execution_count": 118,
     "metadata": {},
     "output_type": "execute_result"
    }
   ],
   "source": [
    "per1"
   ]
  },
  {
   "cell_type": "code",
   "execution_count": 120,
   "id": "8f526b30",
   "metadata": {},
   "outputs": [
    {
     "data": {
      "text/plain": [
       "80"
      ]
     },
     "execution_count": 120,
     "metadata": {},
     "output_type": "execute_result"
    }
   ],
   "source": [
    "per2=per1[\"Rahul\"]"
   ]
  },
  {
   "cell_type": "code",
   "execution_count": 121,
   "id": "5f62bab8",
   "metadata": {},
   "outputs": [
    {
     "data": {
      "text/plain": [
       "Ram     90\n",
       "Amit    85\n",
       "Tina    95\n",
       "dtype: int64"
      ]
     },
     "execution_count": 121,
     "metadata": {},
     "output_type": "execute_result"
    }
   ],
   "source": [
    "per1[per1>=85]"
   ]
  },
  {
   "cell_type": "code",
   "execution_count": 124,
   "id": "cf474050",
   "metadata": {},
   "outputs": [
    {
     "data": {
      "text/plain": [
       "False"
      ]
     },
     "execution_count": 124,
     "metadata": {},
     "output_type": "execute_result"
    }
   ],
   "source": [
    "\"Tina1\" in per1"
   ]
  },
  {
   "cell_type": "code",
   "execution_count": 125,
   "id": "28dd5f9c",
   "metadata": {},
   "outputs": [
    {
     "data": {
      "text/plain": [
       "Ram      9.0\n",
       "Rahul    8.0\n",
       "Amit     8.5\n",
       "Tina     9.5\n",
       "dtype: float64"
      ]
     },
     "execution_count": 125,
     "metadata": {},
     "output_type": "execute_result"
    }
   ],
   "source": [
    "per1/10"
   ]
  },
  {
   "cell_type": "code",
   "execution_count": 126,
   "id": "aabf3a2a",
   "metadata": {},
   "outputs": [
    {
     "data": {
      "text/plain": [
       "Ram      8100\n",
       "Rahul    6400\n",
       "Amit     7225\n",
       "Tina     9025\n",
       "dtype: int64"
      ]
     },
     "execution_count": 126,
     "metadata": {},
     "output_type": "execute_result"
    }
   ],
   "source": [
    "per1**2"
   ]
  },
  {
   "cell_type": "code",
   "execution_count": 127,
   "id": "5a29520a",
   "metadata": {},
   "outputs": [
    {
     "data": {
      "text/plain": [
       "Ram      False\n",
       "Rahul    False\n",
       "Amit     False\n",
       "Tina     False\n",
       "dtype: bool"
      ]
     },
     "execution_count": 127,
     "metadata": {},
     "output_type": "execute_result"
    }
   ],
   "source": [
    "per1.isnull()"
   ]
  },
  {
   "cell_type": "code",
   "execution_count": 129,
   "id": "17504e06",
   "metadata": {},
   "outputs": [],
   "source": [
    "games=pd.read_csv(\"D:/Test/vgsalesGlobale.csv\")"
   ]
  },
  {
   "cell_type": "code",
   "execution_count": 146,
   "id": "4c6e5433",
   "metadata": {},
   "outputs": [
    {
     "data": {
      "text/html": [
       "<div>\n",
       "<style scoped>\n",
       "    .dataframe tbody tr th:only-of-type {\n",
       "        vertical-align: middle;\n",
       "    }\n",
       "\n",
       "    .dataframe tbody tr th {\n",
       "        vertical-align: top;\n",
       "    }\n",
       "\n",
       "    .dataframe thead th {\n",
       "        text-align: right;\n",
       "    }\n",
       "</style>\n",
       "<table border=\"1\" class=\"dataframe\">\n",
       "  <thead>\n",
       "    <tr style=\"text-align: right;\">\n",
       "      <th></th>\n",
       "      <th>Rank</th>\n",
       "      <th>Name</th>\n",
       "      <th>Platform</th>\n",
       "      <th>Year</th>\n",
       "      <th>Genre</th>\n",
       "      <th>Publisher</th>\n",
       "      <th>NA_Sales</th>\n",
       "      <th>EU_Sales</th>\n",
       "      <th>JP_Sales</th>\n",
       "      <th>Other_Sales</th>\n",
       "      <th>Global_Sales</th>\n",
       "    </tr>\n",
       "  </thead>\n",
       "  <tbody>\n",
       "    <tr>\n",
       "      <th>0</th>\n",
       "      <td>1</td>\n",
       "      <td>Wii Sports</td>\n",
       "      <td>Wii</td>\n",
       "      <td>2006.0</td>\n",
       "      <td>Sports</td>\n",
       "      <td>Nintendo</td>\n",
       "      <td>41.49</td>\n",
       "      <td>29.02</td>\n",
       "      <td>3.77</td>\n",
       "      <td>8.46</td>\n",
       "      <td>82.74</td>\n",
       "    </tr>\n",
       "    <tr>\n",
       "      <th>1</th>\n",
       "      <td>2</td>\n",
       "      <td>Super Mario Bros.</td>\n",
       "      <td>NES</td>\n",
       "      <td>1985.0</td>\n",
       "      <td>Platform</td>\n",
       "      <td>Nintendo</td>\n",
       "      <td>29.08</td>\n",
       "      <td>3.58</td>\n",
       "      <td>6.81</td>\n",
       "      <td>0.77</td>\n",
       "      <td>40.24</td>\n",
       "    </tr>\n",
       "    <tr>\n",
       "      <th>2</th>\n",
       "      <td>3</td>\n",
       "      <td>Mario Kart Wii</td>\n",
       "      <td>Wii</td>\n",
       "      <td>2008.0</td>\n",
       "      <td>Racing</td>\n",
       "      <td>Nintendo</td>\n",
       "      <td>15.85</td>\n",
       "      <td>12.88</td>\n",
       "      <td>3.79</td>\n",
       "      <td>3.31</td>\n",
       "      <td>35.82</td>\n",
       "    </tr>\n",
       "    <tr>\n",
       "      <th>3</th>\n",
       "      <td>4</td>\n",
       "      <td>Wii Sports Resort</td>\n",
       "      <td>Wii</td>\n",
       "      <td>2009.0</td>\n",
       "      <td>Sports</td>\n",
       "      <td>Nintendo</td>\n",
       "      <td>15.75</td>\n",
       "      <td>11.01</td>\n",
       "      <td>3.28</td>\n",
       "      <td>2.96</td>\n",
       "      <td>33.00</td>\n",
       "    </tr>\n",
       "    <tr>\n",
       "      <th>4</th>\n",
       "      <td>5</td>\n",
       "      <td>Pokemon Red/Pokemon Blue</td>\n",
       "      <td>GB</td>\n",
       "      <td>1996.0</td>\n",
       "      <td>Role-Playing</td>\n",
       "      <td>Nintendo</td>\n",
       "      <td>11.27</td>\n",
       "      <td>8.89</td>\n",
       "      <td>10.22</td>\n",
       "      <td>1.00</td>\n",
       "      <td>31.37</td>\n",
       "    </tr>\n",
       "  </tbody>\n",
       "</table>\n",
       "</div>"
      ],
      "text/plain": [
       "   Rank                      Name Platform    Year         Genre Publisher  \\\n",
       "0     1                Wii Sports      Wii  2006.0        Sports  Nintendo   \n",
       "1     2         Super Mario Bros.      NES  1985.0      Platform  Nintendo   \n",
       "2     3            Mario Kart Wii      Wii  2008.0        Racing  Nintendo   \n",
       "3     4         Wii Sports Resort      Wii  2009.0        Sports  Nintendo   \n",
       "4     5  Pokemon Red/Pokemon Blue       GB  1996.0  Role-Playing  Nintendo   \n",
       "\n",
       "   NA_Sales  EU_Sales  JP_Sales  Other_Sales  Global_Sales  \n",
       "0     41.49     29.02      3.77         8.46         82.74  \n",
       "1     29.08      3.58      6.81         0.77         40.24  \n",
       "2     15.85     12.88      3.79         3.31         35.82  \n",
       "3     15.75     11.01      3.28         2.96         33.00  \n",
       "4     11.27      8.89     10.22         1.00         31.37  "
      ]
     },
     "execution_count": 146,
     "metadata": {},
     "output_type": "execute_result"
    }
   ],
   "source": [
    "games.head()"
   ]
  },
  {
   "cell_type": "code",
   "execution_count": 135,
   "id": "61f5ebbd",
   "metadata": {},
   "outputs": [
    {
     "data": {
      "text/plain": [
       "Rank              int64\n",
       "Name             object\n",
       "Platform         object\n",
       "Year            float64\n",
       "Genre            object\n",
       "Publisher        object\n",
       "NA_Sales        float64\n",
       "EU_Sales        float64\n",
       "JP_Sales        float64\n",
       "Other_Sales     float64\n",
       "Global_Sales    float64\n",
       "dtype: object"
      ]
     },
     "execution_count": 135,
     "metadata": {},
     "output_type": "execute_result"
    }
   ],
   "source": [
    "games.dtypes"
   ]
  },
  {
   "cell_type": "code",
   "execution_count": 136,
   "id": "f7561df7",
   "metadata": {},
   "outputs": [
    {
     "data": {
      "text/html": [
       "<div>\n",
       "<style scoped>\n",
       "    .dataframe tbody tr th:only-of-type {\n",
       "        vertical-align: middle;\n",
       "    }\n",
       "\n",
       "    .dataframe tbody tr th {\n",
       "        vertical-align: top;\n",
       "    }\n",
       "\n",
       "    .dataframe thead th {\n",
       "        text-align: right;\n",
       "    }\n",
       "</style>\n",
       "<table border=\"1\" class=\"dataframe\">\n",
       "  <thead>\n",
       "    <tr style=\"text-align: right;\">\n",
       "      <th></th>\n",
       "      <th>Rank</th>\n",
       "      <th>Year</th>\n",
       "      <th>NA_Sales</th>\n",
       "      <th>EU_Sales</th>\n",
       "      <th>JP_Sales</th>\n",
       "      <th>Other_Sales</th>\n",
       "      <th>Global_Sales</th>\n",
       "    </tr>\n",
       "  </thead>\n",
       "  <tbody>\n",
       "    <tr>\n",
       "      <th>count</th>\n",
       "      <td>16598.000000</td>\n",
       "      <td>16327.000000</td>\n",
       "      <td>16598.000000</td>\n",
       "      <td>16598.000000</td>\n",
       "      <td>16598.000000</td>\n",
       "      <td>16598.000000</td>\n",
       "      <td>16598.000000</td>\n",
       "    </tr>\n",
       "    <tr>\n",
       "      <th>mean</th>\n",
       "      <td>8300.605254</td>\n",
       "      <td>2006.406443</td>\n",
       "      <td>0.264667</td>\n",
       "      <td>0.146652</td>\n",
       "      <td>0.077782</td>\n",
       "      <td>0.048063</td>\n",
       "      <td>0.537441</td>\n",
       "    </tr>\n",
       "    <tr>\n",
       "      <th>std</th>\n",
       "      <td>4791.853933</td>\n",
       "      <td>5.828981</td>\n",
       "      <td>0.816683</td>\n",
       "      <td>0.505351</td>\n",
       "      <td>0.309291</td>\n",
       "      <td>0.188588</td>\n",
       "      <td>1.555028</td>\n",
       "    </tr>\n",
       "    <tr>\n",
       "      <th>min</th>\n",
       "      <td>1.000000</td>\n",
       "      <td>1980.000000</td>\n",
       "      <td>0.000000</td>\n",
       "      <td>0.000000</td>\n",
       "      <td>0.000000</td>\n",
       "      <td>0.000000</td>\n",
       "      <td>0.010000</td>\n",
       "    </tr>\n",
       "    <tr>\n",
       "      <th>25%</th>\n",
       "      <td>4151.250000</td>\n",
       "      <td>2003.000000</td>\n",
       "      <td>0.000000</td>\n",
       "      <td>0.000000</td>\n",
       "      <td>0.000000</td>\n",
       "      <td>0.000000</td>\n",
       "      <td>0.060000</td>\n",
       "    </tr>\n",
       "    <tr>\n",
       "      <th>50%</th>\n",
       "      <td>8300.500000</td>\n",
       "      <td>2007.000000</td>\n",
       "      <td>0.080000</td>\n",
       "      <td>0.020000</td>\n",
       "      <td>0.000000</td>\n",
       "      <td>0.010000</td>\n",
       "      <td>0.170000</td>\n",
       "    </tr>\n",
       "    <tr>\n",
       "      <th>75%</th>\n",
       "      <td>12449.750000</td>\n",
       "      <td>2010.000000</td>\n",
       "      <td>0.240000</td>\n",
       "      <td>0.110000</td>\n",
       "      <td>0.040000</td>\n",
       "      <td>0.040000</td>\n",
       "      <td>0.470000</td>\n",
       "    </tr>\n",
       "    <tr>\n",
       "      <th>max</th>\n",
       "      <td>16600.000000</td>\n",
       "      <td>2020.000000</td>\n",
       "      <td>41.490000</td>\n",
       "      <td>29.020000</td>\n",
       "      <td>10.220000</td>\n",
       "      <td>10.570000</td>\n",
       "      <td>82.740000</td>\n",
       "    </tr>\n",
       "  </tbody>\n",
       "</table>\n",
       "</div>"
      ],
      "text/plain": [
       "               Rank          Year      NA_Sales      EU_Sales      JP_Sales  \\\n",
       "count  16598.000000  16327.000000  16598.000000  16598.000000  16598.000000   \n",
       "mean    8300.605254   2006.406443      0.264667      0.146652      0.077782   \n",
       "std     4791.853933      5.828981      0.816683      0.505351      0.309291   \n",
       "min        1.000000   1980.000000      0.000000      0.000000      0.000000   \n",
       "25%     4151.250000   2003.000000      0.000000      0.000000      0.000000   \n",
       "50%     8300.500000   2007.000000      0.080000      0.020000      0.000000   \n",
       "75%    12449.750000   2010.000000      0.240000      0.110000      0.040000   \n",
       "max    16600.000000   2020.000000     41.490000     29.020000     10.220000   \n",
       "\n",
       "        Other_Sales  Global_Sales  \n",
       "count  16598.000000  16598.000000  \n",
       "mean       0.048063      0.537441  \n",
       "std        0.188588      1.555028  \n",
       "min        0.000000      0.010000  \n",
       "25%        0.000000      0.060000  \n",
       "50%        0.010000      0.170000  \n",
       "75%        0.040000      0.470000  \n",
       "max       10.570000     82.740000  "
      ]
     },
     "execution_count": 136,
     "metadata": {},
     "output_type": "execute_result"
    }
   ],
   "source": [
    "games.describe()"
   ]
  },
  {
   "cell_type": "code",
   "execution_count": 137,
   "id": "f270e95a",
   "metadata": {},
   "outputs": [
    {
     "data": {
      "text/plain": [
       "count      16598\n",
       "unique        12\n",
       "top       Action\n",
       "freq        3316\n",
       "Name: Genre, dtype: object"
      ]
     },
     "execution_count": 137,
     "metadata": {},
     "output_type": "execute_result"
    }
   ],
   "source": [
    "games.Genre.describe()"
   ]
  },
  {
   "cell_type": "code",
   "execution_count": 138,
   "id": "779491ab",
   "metadata": {},
   "outputs": [
    {
     "data": {
      "text/plain": [
       "Action          3316\n",
       "Sports          2346\n",
       "Misc            1739\n",
       "Role-Playing    1488\n",
       "Shooter         1310\n",
       "Adventure       1286\n",
       "Racing          1249\n",
       "Platform         886\n",
       "Simulation       867\n",
       "Fighting         848\n",
       "Strategy         681\n",
       "Puzzle           582\n",
       "Name: Genre, dtype: int64"
      ]
     },
     "execution_count": 138,
     "metadata": {},
     "output_type": "execute_result"
    }
   ],
   "source": [
    "games.Genre.value_counts()"
   ]
  },
  {
   "cell_type": "code",
   "execution_count": 139,
   "id": "e394fa05",
   "metadata": {},
   "outputs": [
    {
     "data": {
      "text/plain": [
       "Action          0.199783\n",
       "Sports          0.141342\n",
       "Misc            0.104772\n",
       "Role-Playing    0.089649\n",
       "Shooter         0.078925\n",
       "Adventure       0.077479\n",
       "Racing          0.075250\n",
       "Platform        0.053380\n",
       "Simulation      0.052235\n",
       "Fighting        0.051090\n",
       "Strategy        0.041029\n",
       "Puzzle          0.035064\n",
       "Name: Genre, dtype: float64"
      ]
     },
     "execution_count": 139,
     "metadata": {},
     "output_type": "execute_result"
    }
   ],
   "source": [
    "games.Genre.value_counts(normalize=True)"
   ]
  },
  {
   "cell_type": "code",
   "execution_count": 140,
   "id": "3ac773d4",
   "metadata": {},
   "outputs": [
    {
     "data": {
      "text/plain": [
       "pandas.core.series.Series"
      ]
     },
     "execution_count": 140,
     "metadata": {},
     "output_type": "execute_result"
    }
   ],
   "source": [
    "type(games.Genre.value_counts())"
   ]
  },
  {
   "cell_type": "code",
   "execution_count": 141,
   "id": "9f919c92",
   "metadata": {},
   "outputs": [
    {
     "data": {
      "text/plain": [
       "Action          3316\n",
       "Sports          2346\n",
       "Misc            1739\n",
       "Role-Playing    1488\n",
       "Shooter         1310\n",
       "Name: Genre, dtype: int64"
      ]
     },
     "execution_count": 141,
     "metadata": {},
     "output_type": "execute_result"
    }
   ],
   "source": [
    "games.Genre.value_counts().head()"
   ]
  },
  {
   "cell_type": "code",
   "execution_count": 142,
   "id": "6b853dae",
   "metadata": {},
   "outputs": [
    {
     "data": {
      "text/plain": [
       "array(['Sports', 'Platform', 'Racing', 'Role-Playing', 'Puzzle', 'Misc',\n",
       "       'Shooter', 'Simulation', 'Action', 'Fighting', 'Adventure',\n",
       "       'Strategy'], dtype=object)"
      ]
     },
     "execution_count": 142,
     "metadata": {},
     "output_type": "execute_result"
    }
   ],
   "source": [
    "games.Genre.unique()"
   ]
  },
  {
   "cell_type": "code",
   "execution_count": 143,
   "id": "9ed2c0f0",
   "metadata": {},
   "outputs": [
    {
     "data": {
      "text/plain": [
       "12"
      ]
     },
     "execution_count": 143,
     "metadata": {},
     "output_type": "execute_result"
    }
   ],
   "source": [
    "games.Genre.nunique()"
   ]
  },
  {
   "cell_type": "code",
   "execution_count": 150,
   "id": "57f2a321",
   "metadata": {},
   "outputs": [
    {
     "data": {
      "text/html": [
       "<div>\n",
       "<style scoped>\n",
       "    .dataframe tbody tr th:only-of-type {\n",
       "        vertical-align: middle;\n",
       "    }\n",
       "\n",
       "    .dataframe tbody tr th {\n",
       "        vertical-align: top;\n",
       "    }\n",
       "\n",
       "    .dataframe thead th {\n",
       "        text-align: right;\n",
       "    }\n",
       "</style>\n",
       "<table border=\"1\" class=\"dataframe\">\n",
       "  <thead>\n",
       "    <tr style=\"text-align: right;\">\n",
       "      <th>Platform</th>\n",
       "      <th>2600</th>\n",
       "      <th>3DO</th>\n",
       "      <th>3DS</th>\n",
       "      <th>DC</th>\n",
       "      <th>DS</th>\n",
       "      <th>GB</th>\n",
       "      <th>GBA</th>\n",
       "      <th>GC</th>\n",
       "      <th>GEN</th>\n",
       "      <th>GG</th>\n",
       "      <th>...</th>\n",
       "      <th>SAT</th>\n",
       "      <th>SCD</th>\n",
       "      <th>SNES</th>\n",
       "      <th>TG16</th>\n",
       "      <th>WS</th>\n",
       "      <th>Wii</th>\n",
       "      <th>WiiU</th>\n",
       "      <th>X360</th>\n",
       "      <th>XB</th>\n",
       "      <th>XOne</th>\n",
       "    </tr>\n",
       "    <tr>\n",
       "      <th>Genre</th>\n",
       "      <th></th>\n",
       "      <th></th>\n",
       "      <th></th>\n",
       "      <th></th>\n",
       "      <th></th>\n",
       "      <th></th>\n",
       "      <th></th>\n",
       "      <th></th>\n",
       "      <th></th>\n",
       "      <th></th>\n",
       "      <th></th>\n",
       "      <th></th>\n",
       "      <th></th>\n",
       "      <th></th>\n",
       "      <th></th>\n",
       "      <th></th>\n",
       "      <th></th>\n",
       "      <th></th>\n",
       "      <th></th>\n",
       "      <th></th>\n",
       "      <th></th>\n",
       "    </tr>\n",
       "  </thead>\n",
       "  <tbody>\n",
       "    <tr>\n",
       "      <th>Action</th>\n",
       "      <td>61</td>\n",
       "      <td>0</td>\n",
       "      <td>182</td>\n",
       "      <td>3</td>\n",
       "      <td>343</td>\n",
       "      <td>6</td>\n",
       "      <td>167</td>\n",
       "      <td>101</td>\n",
       "      <td>3</td>\n",
       "      <td>0</td>\n",
       "      <td>...</td>\n",
       "      <td>3</td>\n",
       "      <td>0</td>\n",
       "      <td>12</td>\n",
       "      <td>0</td>\n",
       "      <td>0</td>\n",
       "      <td>238</td>\n",
       "      <td>63</td>\n",
       "      <td>324</td>\n",
       "      <td>155</td>\n",
       "      <td>68</td>\n",
       "    </tr>\n",
       "    <tr>\n",
       "      <th>Adventure</th>\n",
       "      <td>2</td>\n",
       "      <td>1</td>\n",
       "      <td>37</td>\n",
       "      <td>11</td>\n",
       "      <td>240</td>\n",
       "      <td>5</td>\n",
       "      <td>38</td>\n",
       "      <td>20</td>\n",
       "      <td>2</td>\n",
       "      <td>0</td>\n",
       "      <td>...</td>\n",
       "      <td>26</td>\n",
       "      <td>0</td>\n",
       "      <td>4</td>\n",
       "      <td>1</td>\n",
       "      <td>0</td>\n",
       "      <td>84</td>\n",
       "      <td>3</td>\n",
       "      <td>47</td>\n",
       "      <td>26</td>\n",
       "      <td>12</td>\n",
       "    </tr>\n",
       "    <tr>\n",
       "      <th>Fighting</th>\n",
       "      <td>2</td>\n",
       "      <td>0</td>\n",
       "      <td>14</td>\n",
       "      <td>12</td>\n",
       "      <td>36</td>\n",
       "      <td>0</td>\n",
       "      <td>23</td>\n",
       "      <td>42</td>\n",
       "      <td>5</td>\n",
       "      <td>0</td>\n",
       "      <td>...</td>\n",
       "      <td>31</td>\n",
       "      <td>0</td>\n",
       "      <td>25</td>\n",
       "      <td>0</td>\n",
       "      <td>0</td>\n",
       "      <td>42</td>\n",
       "      <td>5</td>\n",
       "      <td>65</td>\n",
       "      <td>48</td>\n",
       "      <td>7</td>\n",
       "    </tr>\n",
       "    <tr>\n",
       "      <th>Misc</th>\n",
       "      <td>5</td>\n",
       "      <td>0</td>\n",
       "      <td>53</td>\n",
       "      <td>0</td>\n",
       "      <td>393</td>\n",
       "      <td>8</td>\n",
       "      <td>110</td>\n",
       "      <td>36</td>\n",
       "      <td>1</td>\n",
       "      <td>0</td>\n",
       "      <td>...</td>\n",
       "      <td>15</td>\n",
       "      <td>2</td>\n",
       "      <td>17</td>\n",
       "      <td>0</td>\n",
       "      <td>0</td>\n",
       "      <td>280</td>\n",
       "      <td>21</td>\n",
       "      <td>126</td>\n",
       "      <td>46</td>\n",
       "      <td>15</td>\n",
       "    </tr>\n",
       "    <tr>\n",
       "      <th>Platform</th>\n",
       "      <td>9</td>\n",
       "      <td>0</td>\n",
       "      <td>28</td>\n",
       "      <td>2</td>\n",
       "      <td>92</td>\n",
       "      <td>19</td>\n",
       "      <td>142</td>\n",
       "      <td>73</td>\n",
       "      <td>7</td>\n",
       "      <td>1</td>\n",
       "      <td>...</td>\n",
       "      <td>5</td>\n",
       "      <td>1</td>\n",
       "      <td>26</td>\n",
       "      <td>0</td>\n",
       "      <td>0</td>\n",
       "      <td>58</td>\n",
       "      <td>16</td>\n",
       "      <td>24</td>\n",
       "      <td>49</td>\n",
       "      <td>4</td>\n",
       "    </tr>\n",
       "    <tr>\n",
       "      <th>Puzzle</th>\n",
       "      <td>11</td>\n",
       "      <td>1</td>\n",
       "      <td>20</td>\n",
       "      <td>0</td>\n",
       "      <td>238</td>\n",
       "      <td>15</td>\n",
       "      <td>41</td>\n",
       "      <td>13</td>\n",
       "      <td>0</td>\n",
       "      <td>0</td>\n",
       "      <td>...</td>\n",
       "      <td>5</td>\n",
       "      <td>0</td>\n",
       "      <td>13</td>\n",
       "      <td>0</td>\n",
       "      <td>0</td>\n",
       "      <td>55</td>\n",
       "      <td>4</td>\n",
       "      <td>7</td>\n",
       "      <td>7</td>\n",
       "      <td>0</td>\n",
       "    </tr>\n",
       "    <tr>\n",
       "      <th>Racing</th>\n",
       "      <td>6</td>\n",
       "      <td>0</td>\n",
       "      <td>11</td>\n",
       "      <td>6</td>\n",
       "      <td>67</td>\n",
       "      <td>2</td>\n",
       "      <td>64</td>\n",
       "      <td>63</td>\n",
       "      <td>1</td>\n",
       "      <td>0</td>\n",
       "      <td>...</td>\n",
       "      <td>8</td>\n",
       "      <td>1</td>\n",
       "      <td>9</td>\n",
       "      <td>0</td>\n",
       "      <td>0</td>\n",
       "      <td>94</td>\n",
       "      <td>3</td>\n",
       "      <td>105</td>\n",
       "      <td>123</td>\n",
       "      <td>19</td>\n",
       "    </tr>\n",
       "    <tr>\n",
       "      <th>Role-Playing</th>\n",
       "      <td>0</td>\n",
       "      <td>0</td>\n",
       "      <td>86</td>\n",
       "      <td>4</td>\n",
       "      <td>200</td>\n",
       "      <td>21</td>\n",
       "      <td>73</td>\n",
       "      <td>27</td>\n",
       "      <td>3</td>\n",
       "      <td>0</td>\n",
       "      <td>...</td>\n",
       "      <td>17</td>\n",
       "      <td>1</td>\n",
       "      <td>50</td>\n",
       "      <td>0</td>\n",
       "      <td>4</td>\n",
       "      <td>35</td>\n",
       "      <td>6</td>\n",
       "      <td>76</td>\n",
       "      <td>23</td>\n",
       "      <td>13</td>\n",
       "    </tr>\n",
       "    <tr>\n",
       "      <th>Shooter</th>\n",
       "      <td>24</td>\n",
       "      <td>0</td>\n",
       "      <td>7</td>\n",
       "      <td>3</td>\n",
       "      <td>42</td>\n",
       "      <td>1</td>\n",
       "      <td>40</td>\n",
       "      <td>48</td>\n",
       "      <td>1</td>\n",
       "      <td>0</td>\n",
       "      <td>...</td>\n",
       "      <td>22</td>\n",
       "      <td>0</td>\n",
       "      <td>10</td>\n",
       "      <td>1</td>\n",
       "      <td>0</td>\n",
       "      <td>66</td>\n",
       "      <td>10</td>\n",
       "      <td>203</td>\n",
       "      <td>132</td>\n",
       "      <td>33</td>\n",
       "    </tr>\n",
       "    <tr>\n",
       "      <th>Simulation</th>\n",
       "      <td>1</td>\n",
       "      <td>1</td>\n",
       "      <td>30</td>\n",
       "      <td>1</td>\n",
       "      <td>285</td>\n",
       "      <td>5</td>\n",
       "      <td>18</td>\n",
       "      <td>12</td>\n",
       "      <td>0</td>\n",
       "      <td>0</td>\n",
       "      <td>...</td>\n",
       "      <td>7</td>\n",
       "      <td>0</td>\n",
       "      <td>9</td>\n",
       "      <td>0</td>\n",
       "      <td>0</td>\n",
       "      <td>87</td>\n",
       "      <td>1</td>\n",
       "      <td>40</td>\n",
       "      <td>24</td>\n",
       "      <td>3</td>\n",
       "    </tr>\n",
       "    <tr>\n",
       "      <th>Sports</th>\n",
       "      <td>12</td>\n",
       "      <td>0</td>\n",
       "      <td>26</td>\n",
       "      <td>10</td>\n",
       "      <td>148</td>\n",
       "      <td>9</td>\n",
       "      <td>88</td>\n",
       "      <td>110</td>\n",
       "      <td>3</td>\n",
       "      <td>0</td>\n",
       "      <td>...</td>\n",
       "      <td>16</td>\n",
       "      <td>0</td>\n",
       "      <td>49</td>\n",
       "      <td>0</td>\n",
       "      <td>0</td>\n",
       "      <td>261</td>\n",
       "      <td>8</td>\n",
       "      <td>220</td>\n",
       "      <td>170</td>\n",
       "      <td>36</td>\n",
       "    </tr>\n",
       "    <tr>\n",
       "      <th>Strategy</th>\n",
       "      <td>0</td>\n",
       "      <td>0</td>\n",
       "      <td>15</td>\n",
       "      <td>0</td>\n",
       "      <td>79</td>\n",
       "      <td>7</td>\n",
       "      <td>18</td>\n",
       "      <td>11</td>\n",
       "      <td>1</td>\n",
       "      <td>0</td>\n",
       "      <td>...</td>\n",
       "      <td>18</td>\n",
       "      <td>1</td>\n",
       "      <td>15</td>\n",
       "      <td>0</td>\n",
       "      <td>2</td>\n",
       "      <td>25</td>\n",
       "      <td>3</td>\n",
       "      <td>28</td>\n",
       "      <td>21</td>\n",
       "      <td>3</td>\n",
       "    </tr>\n",
       "  </tbody>\n",
       "</table>\n",
       "<p>12 rows × 31 columns</p>\n",
       "</div>"
      ],
      "text/plain": [
       "Platform      2600  3DO  3DS  DC   DS  GB  GBA   GC  GEN  GG  ...  SAT  SCD  \\\n",
       "Genre                                                         ...             \n",
       "Action          61    0  182   3  343   6  167  101    3   0  ...    3    0   \n",
       "Adventure        2    1   37  11  240   5   38   20    2   0  ...   26    0   \n",
       "Fighting         2    0   14  12   36   0   23   42    5   0  ...   31    0   \n",
       "Misc             5    0   53   0  393   8  110   36    1   0  ...   15    2   \n",
       "Platform         9    0   28   2   92  19  142   73    7   1  ...    5    1   \n",
       "Puzzle          11    1   20   0  238  15   41   13    0   0  ...    5    0   \n",
       "Racing           6    0   11   6   67   2   64   63    1   0  ...    8    1   \n",
       "Role-Playing     0    0   86   4  200  21   73   27    3   0  ...   17    1   \n",
       "Shooter         24    0    7   3   42   1   40   48    1   0  ...   22    0   \n",
       "Simulation       1    1   30   1  285   5   18   12    0   0  ...    7    0   \n",
       "Sports          12    0   26  10  148   9   88  110    3   0  ...   16    0   \n",
       "Strategy         0    0   15   0   79   7   18   11    1   0  ...   18    1   \n",
       "\n",
       "Platform      SNES  TG16  WS  Wii  WiiU  X360   XB  XOne  \n",
       "Genre                                                     \n",
       "Action          12     0   0  238    63   324  155    68  \n",
       "Adventure        4     1   0   84     3    47   26    12  \n",
       "Fighting        25     0   0   42     5    65   48     7  \n",
       "Misc            17     0   0  280    21   126   46    15  \n",
       "Platform        26     0   0   58    16    24   49     4  \n",
       "Puzzle          13     0   0   55     4     7    7     0  \n",
       "Racing           9     0   0   94     3   105  123    19  \n",
       "Role-Playing    50     0   4   35     6    76   23    13  \n",
       "Shooter         10     1   0   66    10   203  132    33  \n",
       "Simulation       9     0   0   87     1    40   24     3  \n",
       "Sports          49     0   0  261     8   220  170    36  \n",
       "Strategy        15     0   2   25     3    28   21     3  \n",
       "\n",
       "[12 rows x 31 columns]"
      ]
     },
     "execution_count": 150,
     "metadata": {},
     "output_type": "execute_result"
    }
   ],
   "source": [
    "pd.crosstab(games.Genre,games.Platform)"
   ]
  },
  {
   "cell_type": "code",
   "execution_count": 151,
   "id": "8411073b",
   "metadata": {},
   "outputs": [
    {
     "data": {
      "text/plain": [
       "count    16598.000000\n",
       "mean         0.537441\n",
       "std          1.555028\n",
       "min          0.010000\n",
       "25%          0.060000\n",
       "50%          0.170000\n",
       "75%          0.470000\n",
       "max         82.740000\n",
       "Name: Global_Sales, dtype: float64"
      ]
     },
     "execution_count": 151,
     "metadata": {},
     "output_type": "execute_result"
    }
   ],
   "source": [
    "games.Global_Sales.describe()"
   ]
  },
  {
   "cell_type": "code",
   "execution_count": 152,
   "id": "dbf720f5",
   "metadata": {},
   "outputs": [
    {
     "data": {
      "text/plain": [
       "0.53744065550074"
      ]
     },
     "execution_count": 152,
     "metadata": {},
     "output_type": "execute_result"
    }
   ],
   "source": [
    "games.Global_Sales.mean()"
   ]
  },
  {
   "cell_type": "code",
   "execution_count": 153,
   "id": "889b1c75",
   "metadata": {},
   "outputs": [
    {
     "data": {
      "text/plain": [
       "16598"
      ]
     },
     "execution_count": 153,
     "metadata": {},
     "output_type": "execute_result"
    }
   ],
   "source": [
    "games.Global_Sales.count()"
   ]
  },
  {
   "cell_type": "code",
   "execution_count": 155,
   "id": "e324d325",
   "metadata": {},
   "outputs": [
    {
     "data": {
      "text/plain": [
       "0.02    1071\n",
       "0.03     811\n",
       "0.04     645\n",
       "0.05     632\n",
       "0.01     618\n",
       "        ... \n",
       "5.01       1\n",
       "5.05       1\n",
       "5.07       1\n",
       "5.11       1\n",
       "3.16       1\n",
       "Name: Global_Sales, Length: 623, dtype: int64"
      ]
     },
     "execution_count": 155,
     "metadata": {},
     "output_type": "execute_result"
    }
   ],
   "source": [
    "games.Global_Sales.value_counts()"
   ]
  },
  {
   "cell_type": "code",
   "execution_count": 156,
   "id": "01127322",
   "metadata": {},
   "outputs": [
    {
     "data": {
      "text/plain": [
       "<AxesSubplot:ylabel='Frequency'>"
      ]
     },
     "execution_count": 156,
     "metadata": {},
     "output_type": "execute_result"
    },
    {
     "data": {
      "image/png": "[encoded data removed]",
      "text/plain": [
       "<Figure size 432x288 with 1 Axes>"
      ]
     },
     "metadata": {
      "needs_background": "light"
     },
     "output_type": "display_data"
    }
   ],
   "source": [
    "games.Year.plot(kind=\"hist\")"
   ]
  },
  {
   "cell_type": "code",
   "execution_count": 158,
   "id": "687d89a1",
   "metadata": {},
   "outputs": [
    {
     "data": {
      "text/plain": [
       "<AxesSubplot:>"
      ]
     },
     "execution_count": 158,
     "metadata": {},
     "output_type": "execute_result"
    },
    {
     "data": {
      "image/png": "[encoded data removed]",
      "text/plain": [
       "<Figure size 432x288 with 1 Axes>"
      ]
     },
     "metadata": {
      "needs_background": "light"
     },
     "output_type": "display_data"
    }
   ],
   "source": [
    "games.Genre.value_counts().plot(kind=\"bar\")"
   ]
  },
  {
   "cell_type": "markdown",
   "id": "5c0e4a1f",
   "metadata": {},
   "source": [
    "# Dataframe"
   ]
  },
  {
   "cell_type": "code",
   "execution_count": 159,
   "id": "b8fdfb07",
   "metadata": {},
   "outputs": [],
   "source": [
    "data={\"name\":[\"Amit\",\"Tom\",\"Tina\",\"Siya\",\"Swati\"],\n",
    "      \"score\":[90,80,85,75,95],\n",
    "      \"sport\":[\"Surfing\",\"Swimming\",\"Football\",\"Cricket\",\"Karate\"],\n",
    "      \"Gender\":[\"B\",\"B\",\"G\",\"G\",\"G\"]}"
   ]
  },
  {
   "cell_type": "code",
   "execution_count": 163,
   "id": "2a411019",
   "metadata": {},
   "outputs": [],
   "source": [
    "df=pd.DataFrame(data)"
   ]
  },
  {
   "cell_type": "code",
   "execution_count": 164,
   "id": "04212337",
   "metadata": {},
   "outputs": [
    {
     "data": {
      "text/html": [
       "<div>\n",
       "<style scoped>\n",
       "    .dataframe tbody tr th:only-of-type {\n",
       "        vertical-align: middle;\n",
       "    }\n",
       "\n",
       "    .dataframe tbody tr th {\n",
       "        vertical-align: top;\n",
       "    }\n",
       "\n",
       "    .dataframe thead th {\n",
       "        text-align: right;\n",
       "    }\n",
       "</style>\n",
       "<table border=\"1\" class=\"dataframe\">\n",
       "  <thead>\n",
       "    <tr style=\"text-align: right;\">\n",
       "      <th></th>\n",
       "      <th>name</th>\n",
       "      <th>score</th>\n",
       "      <th>sport</th>\n",
       "      <th>Gender</th>\n",
       "    </tr>\n",
       "  </thead>\n",
       "  <tbody>\n",
       "    <tr>\n",
       "      <th>0</th>\n",
       "      <td>Amit</td>\n",
       "      <td>90</td>\n",
       "      <td>Surfing</td>\n",
       "      <td>B</td>\n",
       "    </tr>\n",
       "    <tr>\n",
       "      <th>1</th>\n",
       "      <td>Tom</td>\n",
       "      <td>80</td>\n",
       "      <td>Swimming</td>\n",
       "      <td>B</td>\n",
       "    </tr>\n",
       "    <tr>\n",
       "      <th>2</th>\n",
       "      <td>Tina</td>\n",
       "      <td>85</td>\n",
       "      <td>Football</td>\n",
       "      <td>G</td>\n",
       "    </tr>\n",
       "    <tr>\n",
       "      <th>3</th>\n",
       "      <td>Siya</td>\n",
       "      <td>75</td>\n",
       "      <td>Cricket</td>\n",
       "      <td>G</td>\n",
       "    </tr>\n",
       "    <tr>\n",
       "      <th>4</th>\n",
       "      <td>Swati</td>\n",
       "      <td>95</td>\n",
       "      <td>Karate</td>\n",
       "      <td>G</td>\n",
       "    </tr>\n",
       "  </tbody>\n",
       "</table>\n",
       "</div>"
      ],
      "text/plain": [
       "    name  score     sport Gender\n",
       "0   Amit     90   Surfing      B\n",
       "1    Tom     80  Swimming      B\n",
       "2   Tina     85  Football      G\n",
       "3   Siya     75   Cricket      G\n",
       "4  Swati     95    Karate      G"
      ]
     },
     "execution_count": 164,
     "metadata": {},
     "output_type": "execute_result"
    }
   ],
   "source": [
    "df"
   ]
  },
  {
   "cell_type": "code",
   "execution_count": 165,
   "id": "eafea5e1",
   "metadata": {},
   "outputs": [
    {
     "data": {
      "text/html": [
       "<div>\n",
       "<style scoped>\n",
       "    .dataframe tbody tr th:only-of-type {\n",
       "        vertical-align: middle;\n",
       "    }\n",
       "\n",
       "    .dataframe tbody tr th {\n",
       "        vertical-align: top;\n",
       "    }\n",
       "\n",
       "    .dataframe thead th {\n",
       "        text-align: right;\n",
       "    }\n",
       "</style>\n",
       "<table border=\"1\" class=\"dataframe\">\n",
       "  <thead>\n",
       "    <tr style=\"text-align: right;\">\n",
       "      <th></th>\n",
       "      <th>name</th>\n",
       "      <th>score</th>\n",
       "      <th>sport</th>\n",
       "      <th>Gender</th>\n",
       "    </tr>\n",
       "  </thead>\n",
       "  <tbody>\n",
       "    <tr>\n",
       "      <th>0</th>\n",
       "      <td>Amit</td>\n",
       "      <td>90</td>\n",
       "      <td>Surfing</td>\n",
       "      <td>B</td>\n",
       "    </tr>\n",
       "    <tr>\n",
       "      <th>1</th>\n",
       "      <td>Tom</td>\n",
       "      <td>80</td>\n",
       "      <td>Swimming</td>\n",
       "      <td>B</td>\n",
       "    </tr>\n",
       "    <tr>\n",
       "      <th>2</th>\n",
       "      <td>Tina</td>\n",
       "      <td>85</td>\n",
       "      <td>Football</td>\n",
       "      <td>G</td>\n",
       "    </tr>\n",
       "    <tr>\n",
       "      <th>3</th>\n",
       "      <td>Siya</td>\n",
       "      <td>75</td>\n",
       "      <td>Cricket</td>\n",
       "      <td>G</td>\n",
       "    </tr>\n",
       "    <tr>\n",
       "      <th>4</th>\n",
       "      <td>Swati</td>\n",
       "      <td>95</td>\n",
       "      <td>Karate</td>\n",
       "      <td>G</td>\n",
       "    </tr>\n",
       "  </tbody>\n",
       "</table>\n",
       "</div>"
      ],
      "text/plain": [
       "    name  score     sport Gender\n",
       "0   Amit     90   Surfing      B\n",
       "1    Tom     80  Swimming      B\n",
       "2   Tina     85  Football      G\n",
       "3   Siya     75   Cricket      G\n",
       "4  Swati     95    Karate      G"
      ]
     },
     "execution_count": 165,
     "metadata": {},
     "output_type": "execute_result"
    }
   ],
   "source": [
    "df.head()"
   ]
  },
  {
   "cell_type": "code",
   "execution_count": 167,
   "id": "541fc54d",
   "metadata": {},
   "outputs": [
    {
     "data": {
      "text/html": [
       "<div>\n",
       "<style scoped>\n",
       "    .dataframe tbody tr th:only-of-type {\n",
       "        vertical-align: middle;\n",
       "    }\n",
       "\n",
       "    .dataframe tbody tr th {\n",
       "        vertical-align: top;\n",
       "    }\n",
       "\n",
       "    .dataframe thead th {\n",
       "        text-align: right;\n",
       "    }\n",
       "</style>\n",
       "<table border=\"1\" class=\"dataframe\">\n",
       "  <thead>\n",
       "    <tr style=\"text-align: right;\">\n",
       "      <th></th>\n",
       "      <th>name</th>\n",
       "      <th>score</th>\n",
       "      <th>sport</th>\n",
       "      <th>Gender</th>\n",
       "    </tr>\n",
       "  </thead>\n",
       "  <tbody>\n",
       "    <tr>\n",
       "      <th>2</th>\n",
       "      <td>Tina</td>\n",
       "      <td>85</td>\n",
       "      <td>Football</td>\n",
       "      <td>G</td>\n",
       "    </tr>\n",
       "    <tr>\n",
       "      <th>3</th>\n",
       "      <td>Siya</td>\n",
       "      <td>75</td>\n",
       "      <td>Cricket</td>\n",
       "      <td>G</td>\n",
       "    </tr>\n",
       "    <tr>\n",
       "      <th>4</th>\n",
       "      <td>Swati</td>\n",
       "      <td>95</td>\n",
       "      <td>Karate</td>\n",
       "      <td>G</td>\n",
       "    </tr>\n",
       "  </tbody>\n",
       "</table>\n",
       "</div>"
      ],
      "text/plain": [
       "    name  score     sport Gender\n",
       "2   Tina     85  Football      G\n",
       "3   Siya     75   Cricket      G\n",
       "4  Swati     95    Karate      G"
      ]
     },
     "execution_count": 167,
     "metadata": {},
     "output_type": "execute_result"
    }
   ],
   "source": [
    "df.tail(3)"
   ]
  },
  {
   "cell_type": "code",
   "execution_count": 169,
   "id": "824839f8",
   "metadata": {},
   "outputs": [],
   "source": [
    "df=pd.DataFrame(data,columns=[\"name\",\"score\",\"sport\",\"Gender\",\"age\"])"
   ]
  },
  {
   "cell_type": "code",
   "execution_count": 170,
   "id": "6ec7d281",
   "metadata": {},
   "outputs": [
    {
     "data": {
      "text/html": [
       "<div>\n",
       "<style scoped>\n",
       "    .dataframe tbody tr th:only-of-type {\n",
       "        vertical-align: middle;\n",
       "    }\n",
       "\n",
       "    .dataframe tbody tr th {\n",
       "        vertical-align: top;\n",
       "    }\n",
       "\n",
       "    .dataframe thead th {\n",
       "        text-align: right;\n",
       "    }\n",
       "</style>\n",
       "<table border=\"1\" class=\"dataframe\">\n",
       "  <thead>\n",
       "    <tr style=\"text-align: right;\">\n",
       "      <th></th>\n",
       "      <th>name</th>\n",
       "      <th>score</th>\n",
       "      <th>sport</th>\n",
       "      <th>Gender</th>\n",
       "      <th>age</th>\n",
       "    </tr>\n",
       "  </thead>\n",
       "  <tbody>\n",
       "    <tr>\n",
       "      <th>0</th>\n",
       "      <td>Amit</td>\n",
       "      <td>90</td>\n",
       "      <td>Surfing</td>\n",
       "      <td>B</td>\n",
       "      <td>NaN</td>\n",
       "    </tr>\n",
       "    <tr>\n",
       "      <th>1</th>\n",
       "      <td>Tom</td>\n",
       "      <td>80</td>\n",
       "      <td>Swimming</td>\n",
       "      <td>B</td>\n",
       "      <td>NaN</td>\n",
       "    </tr>\n",
       "    <tr>\n",
       "      <th>2</th>\n",
       "      <td>Tina</td>\n",
       "      <td>85</td>\n",
       "      <td>Football</td>\n",
       "      <td>G</td>\n",
       "      <td>NaN</td>\n",
       "    </tr>\n",
       "    <tr>\n",
       "      <th>3</th>\n",
       "      <td>Siya</td>\n",
       "      <td>75</td>\n",
       "      <td>Cricket</td>\n",
       "      <td>G</td>\n",
       "      <td>NaN</td>\n",
       "    </tr>\n",
       "    <tr>\n",
       "      <th>4</th>\n",
       "      <td>Swati</td>\n",
       "      <td>95</td>\n",
       "      <td>Karate</td>\n",
       "      <td>G</td>\n",
       "      <td>NaN</td>\n",
       "    </tr>\n",
       "  </tbody>\n",
       "</table>\n",
       "</div>"
      ],
      "text/plain": [
       "    name  score     sport Gender  age\n",
       "0   Amit     90   Surfing      B  NaN\n",
       "1    Tom     80  Swimming      B  NaN\n",
       "2   Tina     85  Football      G  NaN\n",
       "3   Siya     75   Cricket      G  NaN\n",
       "4  Swati     95    Karate      G  NaN"
      ]
     },
     "execution_count": 170,
     "metadata": {},
     "output_type": "execute_result"
    }
   ],
   "source": [
    "df"
   ]
  },
  {
   "cell_type": "code",
   "execution_count": 172,
   "id": "768c504b",
   "metadata": {},
   "outputs": [
    {
     "data": {
      "text/plain": [
       "0     Surfing\n",
       "1    Swimming\n",
       "2    Football\n",
       "3     Cricket\n",
       "4      Karate\n",
       "Name: sport, dtype: object"
      ]
     },
     "execution_count": 172,
     "metadata": {},
     "output_type": "execute_result"
    }
   ],
   "source": [
    "df[\"sport\"]"
   ]
  },
  {
   "cell_type": "code",
   "execution_count": 174,
   "id": "5f6d25b9",
   "metadata": {},
   "outputs": [],
   "source": [
    "df1=[\"name\",\"sport\"]"
   ]
  },
  {
   "cell_type": "code",
   "execution_count": 175,
   "id": "261b4396",
   "metadata": {},
   "outputs": [
    {
     "data": {
      "text/html": [
       "<div>\n",
       "<style scoped>\n",
       "    .dataframe tbody tr th:only-of-type {\n",
       "        vertical-align: middle;\n",
       "    }\n",
       "\n",
       "    .dataframe tbody tr th {\n",
       "        vertical-align: top;\n",
       "    }\n",
       "\n",
       "    .dataframe thead th {\n",
       "        text-align: right;\n",
       "    }\n",
       "</style>\n",
       "<table border=\"1\" class=\"dataframe\">\n",
       "  <thead>\n",
       "    <tr style=\"text-align: right;\">\n",
       "      <th></th>\n",
       "      <th>name</th>\n",
       "      <th>sport</th>\n",
       "    </tr>\n",
       "  </thead>\n",
       "  <tbody>\n",
       "    <tr>\n",
       "      <th>0</th>\n",
       "      <td>Amit</td>\n",
       "      <td>Surfing</td>\n",
       "    </tr>\n",
       "    <tr>\n",
       "      <th>1</th>\n",
       "      <td>Tom</td>\n",
       "      <td>Swimming</td>\n",
       "    </tr>\n",
       "    <tr>\n",
       "      <th>2</th>\n",
       "      <td>Tina</td>\n",
       "      <td>Football</td>\n",
       "    </tr>\n",
       "    <tr>\n",
       "      <th>3</th>\n",
       "      <td>Siya</td>\n",
       "      <td>Cricket</td>\n",
       "    </tr>\n",
       "    <tr>\n",
       "      <th>4</th>\n",
       "      <td>Swati</td>\n",
       "      <td>Karate</td>\n",
       "    </tr>\n",
       "  </tbody>\n",
       "</table>\n",
       "</div>"
      ],
      "text/plain": [
       "    name     sport\n",
       "0   Amit   Surfing\n",
       "1    Tom  Swimming\n",
       "2   Tina  Football\n",
       "3   Siya   Cricket\n",
       "4  Swati    Karate"
      ]
     },
     "execution_count": 175,
     "metadata": {},
     "output_type": "execute_result"
    }
   ],
   "source": [
    "df[df1]"
   ]
  },
  {
   "cell_type": "code",
   "execution_count": 179,
   "id": "84cd20cb",
   "metadata": {},
   "outputs": [
    {
     "data": {
      "text/html": [
       "<div>\n",
       "<style scoped>\n",
       "    .dataframe tbody tr th:only-of-type {\n",
       "        vertical-align: middle;\n",
       "    }\n",
       "\n",
       "    .dataframe tbody tr th {\n",
       "        vertical-align: top;\n",
       "    }\n",
       "\n",
       "    .dataframe thead th {\n",
       "        text-align: right;\n",
       "    }\n",
       "</style>\n",
       "<table border=\"1\" class=\"dataframe\">\n",
       "  <thead>\n",
       "    <tr style=\"text-align: right;\">\n",
       "      <th></th>\n",
       "      <th>name</th>\n",
       "      <th>score</th>\n",
       "      <th>sport</th>\n",
       "      <th>Gender</th>\n",
       "      <th>age</th>\n",
       "    </tr>\n",
       "  </thead>\n",
       "  <tbody>\n",
       "    <tr>\n",
       "      <th>0</th>\n",
       "      <td>Amit</td>\n",
       "      <td>90</td>\n",
       "      <td>Surfing</td>\n",
       "      <td>B</td>\n",
       "      <td>NaN</td>\n",
       "    </tr>\n",
       "  </tbody>\n",
       "</table>\n",
       "</div>"
      ],
      "text/plain": [
       "   name  score    sport Gender  age\n",
       "0  Amit     90  Surfing      B  NaN"
      ]
     },
     "execution_count": 179,
     "metadata": {},
     "output_type": "execute_result"
    }
   ],
   "source": [
    "df.loc[[0]]"
   ]
  },
  {
   "cell_type": "code",
   "execution_count": 180,
   "id": "5507576f",
   "metadata": {},
   "outputs": [
    {
     "data": {
      "text/html": [
       "<div>\n",
       "<style scoped>\n",
       "    .dataframe tbody tr th:only-of-type {\n",
       "        vertical-align: middle;\n",
       "    }\n",
       "\n",
       "    .dataframe tbody tr th {\n",
       "        vertical-align: top;\n",
       "    }\n",
       "\n",
       "    .dataframe thead th {\n",
       "        text-align: right;\n",
       "    }\n",
       "</style>\n",
       "<table border=\"1\" class=\"dataframe\">\n",
       "  <thead>\n",
       "    <tr style=\"text-align: right;\">\n",
       "      <th></th>\n",
       "      <th>name</th>\n",
       "      <th>score</th>\n",
       "      <th>sport</th>\n",
       "      <th>Gender</th>\n",
       "      <th>age</th>\n",
       "    </tr>\n",
       "  </thead>\n",
       "  <tbody>\n",
       "    <tr>\n",
       "      <th>0</th>\n",
       "      <td>Amit</td>\n",
       "      <td>90</td>\n",
       "      <td>Surfing</td>\n",
       "      <td>B</td>\n",
       "      <td>NaN</td>\n",
       "    </tr>\n",
       "    <tr>\n",
       "      <th>1</th>\n",
       "      <td>Tom</td>\n",
       "      <td>80</td>\n",
       "      <td>Swimming</td>\n",
       "      <td>B</td>\n",
       "      <td>NaN</td>\n",
       "    </tr>\n",
       "  </tbody>\n",
       "</table>\n",
       "</div>"
      ],
      "text/plain": [
       "   name  score     sport Gender  age\n",
       "0  Amit     90   Surfing      B  NaN\n",
       "1   Tom     80  Swimming      B  NaN"
      ]
     },
     "execution_count": 180,
     "metadata": {},
     "output_type": "execute_result"
    }
   ],
   "source": [
    "df.loc[[0,1]]"
   ]
  },
  {
   "cell_type": "code",
   "execution_count": null,
   "id": "e4109115",
   "metadata": {},
   "outputs": [],
   "source": [
    "HW: \n",
    "    1.Score >80\n",
    "    2.Plot a graph\n",
    "    3.specify the values for age\n",
    "    4.Plot the agewise bar graph"
   ]
  }
 ],
 "metadata": {
  "kernelspec": {
   "display_name": "Python 3 (ipykernel)",
   "language": "python",
   "name": "python3"
  },
  "language_info": {
   "codemirror_mode": {
    "name": "ipython",
    "version": 3
   },
   "file_extension": ".py",
   "mimetype": "text/x-python",
   "name": "python",
   "nbconvert_exporter": "python",
   "pygments_lexer": "ipython3",
   "version": "3.9.7"
  }
 },
 "nbformat": 4,
 "nbformat_minor": 5
}
